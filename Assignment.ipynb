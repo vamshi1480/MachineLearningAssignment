{
 "cells": [
  {
   "cell_type": "markdown",
   "id": "1404dc0d-c79e-4250-8234-917e9de84eff",
   "metadata": {},
   "source": [
    "# Machine Learning Assignment\n",
    "## Name : B Vamshi Krishna\n",
    "## ID : B201480\n",
    "## Roll No : 62\n",
    "## Class : CSE-C4 #"
   ]
  },
  {
   "cell_type": "code",
   "execution_count": 1,
   "id": "ab23ac5a-e193-45bf-8d45-85687fffb22e",
   "metadata": {},
   "outputs": [
    {
     "name": "stdout",
     "output_type": "stream",
     "text": [
      "The history saving thread hit an unexpected error (OperationalError('attempt to write a readonly database')).History will not be written to the database.\n"
     ]
    }
   ],
   "source": [
    "# Import necessary libraries\n",
    "import pandas as pd\n",
    "import numpy as np\n",
    "from sklearn.model_selection import train_test_split\n",
    "from sklearn.preprocessing import LabelEncoder, StandardScaler\n",
    "from sklearn.impute import SimpleImputer\n",
    "from sklearn.metrics import accuracy_score, classification_report\n",
    "\n",
    "from sklearn.linear_model import LinearRegression\n",
    "from sklearn.tree import DecisionTreeClassifier\n",
    "from sklearn.neighbors import KNeighborsClassifier\n",
    "from sklearn.naive_bayes import GaussianNB\n",
    "from sklearn.svm import SVC\n",
    "from sklearn.cluster import KMeans"
   ]
  },
  {
   "cell_type": "code",
   "execution_count": 2,
   "id": "198af1fd-6e9e-4b87-9a52-e057a9ca65fd",
   "metadata": {},
   "outputs": [],
   "source": [
    "#Load dataset\n",
    "df = pd.read_csv(\"titanic.csv\")"
   ]
  },
  {
   "cell_type": "code",
   "execution_count": 3,
   "id": "ce7a45e7-5e0a-42d9-83a3-f91a7e637baf",
   "metadata": {},
   "outputs": [],
   "source": [
    "# Drop unhelpful columns\n",
    "df = df.drop(['PassengerId', 'Name', 'Ticket', 'Cabin'], axis=1)"
   ]
  },
  {
   "cell_type": "code",
   "execution_count": 4,
   "id": "1423a40b-b626-4f22-858c-9d9326dd42c1",
   "metadata": {},
   "outputs": [],
   "source": [
    "# Fill missing values using different strategies\n",
    "df['Age'] = df['Age'].fillna(df['Age'].mean())\n",
    "df['Embarked'] = df['Embarked'].fillna(df['Embarked'].mode()[0])\n",
    "df['Fare'] = df['Fare'].fillna(df['Fare'].mean())"
   ]
  },
  {
   "cell_type": "code",
   "execution_count": 5,
   "id": "a17762c3-3f7e-4331-ba06-ccd333cb2617",
   "metadata": {},
   "outputs": [],
   "source": [
    "# Encode categorical variables\n",
    "label_encoder = LabelEncoder()\n",
    "categorical_cols = df.select_dtypes(include=['object', 'category']).columns\n",
    "\n",
    "for column in categorical_cols:\n",
    "    df[column] = label_encoder.fit_transform(df[column])"
   ]
  },
  {
   "cell_type": "code",
   "execution_count": 6,
   "id": "b345a62a-664c-4eef-90cb-3342cd5ac97d",
   "metadata": {},
   "outputs": [],
   "source": [
    "# Features and target\n",
    "X = df.drop('Survived', axis=1)\n",
    "y = df['Survived']"
   ]
  },
  {
   "cell_type": "code",
   "execution_count": 7,
   "id": "017d5abb-7e13-4780-bd6c-0f806bf10c33",
   "metadata": {},
   "outputs": [],
   "source": [
    "# Feature scaling\n",
    "scaler = StandardScaler()\n",
    "X_scaled = scaler.fit_transform(X)\n",
    "\n",
    "X_train, X_test, y_train, y_test = train_test_split(X_scaled, y, test_size=0.2, random_state=42)"
   ]
  },
  {
   "cell_type": "code",
   "execution_count": 8,
   "id": "7df77904-6990-457a-860a-56fd0528c8b3",
   "metadata": {},
   "outputs": [
    {
     "name": "stdout",
     "output_type": "stream",
     "text": [
      "\n",
      "Multiple Linear Regression Classification Report:\n",
      "              precision    recall  f1-score   support\n",
      "\n",
      "           0       0.81      0.85      0.83       105\n",
      "           1       0.77      0.72      0.74        74\n",
      "\n",
      "    accuracy                           0.79       179\n",
      "   macro avg       0.79      0.78      0.78       179\n",
      "weighted avg       0.79      0.79      0.79       179\n",
      "\n"
     ]
    }
   ],
   "source": [
    "# 1. Multiple Linear Regression\n",
    "mlr_model = LinearRegression()\n",
    "mlr_model.fit(X_train, y_train)\n",
    "mlr_pred = mlr_model.predict(X_test)\n",
    "\n",
    "mlr_pred_class = np.round(mlr_pred).astype(int)\n",
    "mlr_acc = accuracy_score(y_test, mlr_pred_class)\n",
    "\n",
    "print(\"\\nMultiple Linear Regression Classification Report:\")\n",
    "print(classification_report(y_test, mlr_pred_class))"
   ]
  },
  {
   "cell_type": "code",
   "execution_count": 9,
   "id": "2e60557b-3503-47fb-bc77-efc88ea6fbe8",
   "metadata": {},
   "outputs": [
    {
     "name": "stdout",
     "output_type": "stream",
     "text": [
      "\n",
      "Decision Tree Classification Report:\n",
      "              precision    recall  f1-score   support\n",
      "\n",
      "           0       0.82      0.85      0.84       105\n",
      "           1       0.77      0.74      0.76        74\n",
      "\n",
      "    accuracy                           0.80       179\n",
      "   macro avg       0.80      0.80      0.80       179\n",
      "weighted avg       0.80      0.80      0.80       179\n",
      "\n"
     ]
    }
   ],
   "source": [
    "# 2. Decision Tree\n",
    "dt_model = DecisionTreeClassifier()\n",
    "dt_model.fit(X_train, y_train)\n",
    "dt_pred = dt_model.predict(X_test)\n",
    "dt_acc = accuracy_score(y_test, dt_pred)\n",
    "\n",
    "print(\"\\nDecision Tree Classification Report:\")\n",
    "print(classification_report(y_test, dt_pred))"
   ]
  },
  {
   "cell_type": "code",
   "execution_count": 10,
   "id": "23801944-9b48-4edb-af4c-3acb0baccac3",
   "metadata": {},
   "outputs": [
    {
     "name": "stdout",
     "output_type": "stream",
     "text": [
      "\n",
      "K-Nearest Neighbors Classification Report:\n",
      "              precision    recall  f1-score   support\n",
      "\n",
      "           0       0.81      0.86      0.83       105\n",
      "           1       0.78      0.72      0.75        74\n",
      "\n",
      "    accuracy                           0.80       179\n",
      "   macro avg       0.80      0.79      0.79       179\n",
      "weighted avg       0.80      0.80      0.80       179\n",
      "\n"
     ]
    }
   ],
   "source": [
    "# 3. K-Nearest Neighbors\n",
    "knn_model = KNeighborsClassifier()\n",
    "knn_model.fit(X_train, y_train)\n",
    "knn_pred = knn_model.predict(X_test)\n",
    "knn_acc = accuracy_score(y_test, knn_pred)\n",
    "\n",
    "print(\"\\nK-Nearest Neighbors Classification Report:\")\n",
    "print(classification_report(y_test, knn_pred))"
   ]
  },
  {
   "cell_type": "code",
   "execution_count": 11,
   "id": "019aed97-ea06-4f2a-baa8-7b71d2da276f",
   "metadata": {},
   "outputs": [
    {
     "name": "stdout",
     "output_type": "stream",
     "text": [
      "\n",
      "Naive Bayes Classification Report:\n",
      "              precision    recall  f1-score   support\n",
      "\n",
      "           0       0.83      0.78      0.80       105\n",
      "           1       0.71      0.77      0.74        74\n",
      "\n",
      "    accuracy                           0.78       179\n",
      "   macro avg       0.77      0.78      0.77       179\n",
      "weighted avg       0.78      0.78      0.78       179\n",
      "\n"
     ]
    }
   ],
   "source": [
    "# 4. Naive Bayes\n",
    "nb_model = GaussianNB()\n",
    "nb_model.fit(X_train, y_train)\n",
    "nb_pred = nb_model.predict(X_test)\n",
    "nb_acc = accuracy_score(y_test, nb_pred)\n",
    "\n",
    "print(\"\\nNaive Bayes Classification Report:\")\n",
    "print(classification_report(y_test, nb_pred))"
   ]
  },
  {
   "cell_type": "code",
   "execution_count": 12,
   "id": "34b00206-87bf-4cbd-9b45-9590c0056d57",
   "metadata": {},
   "outputs": [
    {
     "name": "stdout",
     "output_type": "stream",
     "text": [
      "\n",
      "Support Vector Machine Classification Report:\n",
      "              precision    recall  f1-score   support\n",
      "\n",
      "           0       0.82      0.89      0.85       105\n",
      "           1       0.82      0.72      0.76        74\n",
      "\n",
      "    accuracy                           0.82       179\n",
      "   macro avg       0.82      0.80      0.81       179\n",
      "weighted avg       0.82      0.82      0.81       179\n",
      "\n"
     ]
    }
   ],
   "source": [
    "# 5. Support Vector Machine\n",
    "svm_model = SVC()\n",
    "svm_model.fit(X_train, y_train)\n",
    "svm_pred = svm_model.predict(X_test)\n",
    "svm_acc = accuracy_score(y_test, svm_pred)\n",
    "\n",
    "print(\"\\nSupport Vector Machine Classification Report:\")\n",
    "print(classification_report(y_test, svm_pred))"
   ]
  },
  {
   "cell_type": "code",
   "execution_count": 13,
   "id": "83ae65a3-4436-4394-8ccf-70985964f39c",
   "metadata": {},
   "outputs": [
    {
     "name": "stdout",
     "output_type": "stream",
     "text": [
      "\n",
      "KMeans Clustering (Adjusted Rand Index): 0.1171\n",
      "\n",
      "Model Accuracy Scores:\n",
      "Multiple Linear Regression (rounded): 0.7933\n",
      "Decision Tree: 0.8045\n",
      "K-Nearest Neighbors: 0.7989\n",
      "Naive Bayes: 0.7765\n",
      "Support Vector Machine: 0.8156\n"
     ]
    }
   ],
   "source": [
    "# 6. Clustering (unsupervised)\n",
    "kmeans = KMeans(n_clusters=2, n_init=10, random_state=42)\n",
    "kmeans.fit(X_scaled)\n",
    "cluster_labels = kmeans.labels_\n",
    "\n",
    "from sklearn.metrics import adjusted_rand_score\n",
    "clustering_score = adjusted_rand_score(y, cluster_labels)\n",
    "\n",
    "print(f\"\\nKMeans Clustering (Adjusted Rand Index): {clustering_score:.4f}\")\n",
    "\n",
    "# Print model accuracy scores\n",
    "print(\"\\nModel Accuracy Scores:\")\n",
    "print(f\"Multiple Linear Regression (rounded): {mlr_acc:.4f}\")\n",
    "print(f\"Decision Tree: {dt_acc:.4f}\")\n",
    "print(f\"K-Nearest Neighbors: {knn_acc:.4f}\")\n",
    "print(f\"Naive Bayes: {nb_acc:.4f}\")\n",
    "print(f\"Support Vector Machine: {svm_acc:.4f}\")"
   ]
  },
  {
   "cell_type": "code",
   "execution_count": null,
   "id": "c7ed066a-8916-45e6-a1e6-da98b7ff8f6c",
   "metadata": {},
   "outputs": [],
   "source": []
  },
  {
   "cell_type": "code",
   "execution_count": null,
   "id": "f7967a67-9460-4480-bbe5-6e297d35f758",
   "metadata": {},
   "outputs": [],
   "source": []
  },
  {
   "cell_type": "code",
   "execution_count": null,
   "id": "c6a0226c-76a6-4588-ac1d-daca8a400269",
   "metadata": {},
   "outputs": [],
   "source": []
  }
 ],
 "metadata": {
  "kernelspec": {
   "display_name": "Python 3 (ipykernel)",
   "language": "python",
   "name": "python3"
  },
  "language_info": {
   "codemirror_mode": {
    "name": "ipython",
    "version": 3
   },
   "file_extension": ".py",
   "mimetype": "text/x-python",
   "name": "python",
   "nbconvert_exporter": "python",
   "pygments_lexer": "ipython3",
   "version": "3.10.12"
  }
 },
 "nbformat": 4,
 "nbformat_minor": 5
}
